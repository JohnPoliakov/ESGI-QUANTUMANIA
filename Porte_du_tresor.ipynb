{
 "cells": [
  {
   "cell_type": "code",
   "execution_count": 2,
   "id": "8e0dd035",
   "metadata": {},
   "outputs": [],
   "source": [
    "# On importe le nécessaire pour faire de l'informatique quantique"
   ]
  },
  {
   "cell_type": "code",
   "execution_count": 3,
   "id": "fe5974bf",
   "metadata": {},
   "outputs": [],
   "source": [
    "import numpy as np"
   ]
  },
  {
   "cell_type": "code",
   "execution_count": 4,
   "id": "fe0bbdb3",
   "metadata": {},
   "outputs": [],
   "source": [
    "from qiskit import *"
   ]
  },
  {
   "cell_type": "code",
   "execution_count": 5,
   "id": "cc987124",
   "metadata": {},
   "outputs": [],
   "source": [
    "from qiskit import Aer"
   ]
  },
  {
   "cell_type": "code",
   "execution_count": 6,
   "id": "971b3d5f",
   "metadata": {},
   "outputs": [],
   "source": [
    "from qiskit.visualization import plot_state_city"
   ]
  },
  {
   "cell_type": "code",
   "execution_count": 7,
   "id": "cab3158f",
   "metadata": {},
   "outputs": [],
   "source": [
    "# On peut maintenant passer à la résolution de l'énigme de la porte du trésor"
   ]
  },
  {
   "cell_type": "code",
   "execution_count": 8,
   "id": "82c7f17a",
   "metadata": {},
   "outputs": [],
   "source": [
    "# On va créer 3 qubits pour les deux gardiens ainsi que le menteur"
   ]
  },
  {
   "cell_type": "code",
   "execution_count": 9,
   "id": "672eaa42",
   "metadata": {},
   "outputs": [],
   "source": [
    "enigme = QuantumCircuit(3)"
   ]
  },
  {
   "cell_type": "code",
   "execution_count": 10,
   "id": "c548ca18",
   "metadata": {},
   "outputs": [],
   "source": [
    "# Le trésor doit se placer de façon aléatoire, on va donc mettre une porte Hadamard sur l'un des deux gardiens"
   ]
  },
  {
   "cell_type": "code",
   "execution_count": 11,
   "id": "c3e72ead",
   "metadata": {},
   "outputs": [
    {
     "data": {
      "text/plain": [
       "<qiskit.circuit.instructionset.InstructionSet at 0x2438e2abd30>"
      ]
     },
     "execution_count": 11,
     "metadata": {},
     "output_type": "execute_result"
    }
   ],
   "source": [
    "enigme.h(0)"
   ]
  },
  {
   "cell_type": "code",
   "execution_count": 12,
   "id": "44f49cab",
   "metadata": {},
   "outputs": [],
   "source": [
    "# Puis, nous allons mettre une porte cnot sur q0 et q1 afin de s'assurer que les deux gardiens savent la même chose"
   ]
  },
  {
   "cell_type": "code",
   "execution_count": 13,
   "id": "df267181",
   "metadata": {},
   "outputs": [
    {
     "data": {
      "text/plain": [
       "<qiskit.circuit.instructionset.InstructionSet at 0x243b1a0cf10>"
      ]
     },
     "execution_count": 13,
     "metadata": {},
     "output_type": "execute_result"
    }
   ],
   "source": [
    "enigme.cx(0,1)"
   ]
  },
  {
   "cell_type": "code",
   "execution_count": 14,
   "id": "d628c854",
   "metadata": {
    "is_executing": true
   },
   "outputs": [
    {
     "data": {
      "image/png": "[encoded data removed]",
      "text/plain": [
       "<Figure size 287.496x284.278 with 1 Axes>"
      ]
     },
     "execution_count": 14,
     "metadata": {},
     "output_type": "execute_result"
    }
   ],
   "source": [
    "enigme.draw('mpl')"
   ]
  },
  {
   "cell_type": "code",
   "execution_count": 15,
   "id": "2b38423a",
   "metadata": {
    "ExecuteTime": {
     "end_time": "2023-11-10T07:33:38.466485700Z",
     "start_time": "2023-11-10T07:33:38.452524500Z"
    }
   },
   "outputs": [],
   "source": [
    "# Nous avons maintenant q0 et q1 qui sont intriqués, si nous avons la valeur de q0, alors nous auront forcément la valeur de q1"
   ]
  },
  {
   "cell_type": "code",
   "execution_count": 16,
   "id": "7607b06a",
   "metadata": {},
   "outputs": [],
   "source": [
    "# Il faut maintenant faire en sorte qu'un des gardiens ne dise pas la vérité, nous rajoutons donc le qubit du mensonge"
   ]
  },
  {
   "cell_type": "code",
   "execution_count": 17,
   "id": "c4cb34bc",
   "metadata": {},
   "outputs": [
    {
     "data": {
      "text/plain": [
       "<qiskit.circuit.instructionset.InstructionSet at 0x2438e2aab00>"
      ]
     },
     "execution_count": 17,
     "metadata": {},
     "output_type": "execute_result"
    }
   ],
   "source": [
    "enigme.h(2)"
   ]
  },
  {
   "cell_type": "code",
   "execution_count": 18,
   "id": "b10aee7e",
   "metadata": {},
   "outputs": [
    {
     "data": {
      "text/plain": [
       "<qiskit.circuit.instructionset.InstructionSet at 0x243b3807580>"
      ]
     },
     "execution_count": 18,
     "metadata": {},
     "output_type": "execute_result"
    }
   ],
   "source": [
    "enigme.barrier(0,1,2)"
   ]
  },
  {
   "cell_type": "code",
   "execution_count": 19,
   "id": "f71f592f",
   "metadata": {},
   "outputs": [
    {
     "data": {
      "image/png": "[encoded data removed]",
      "text/plain": [
       "<Figure size 371.107x284.278 with 1 Axes>"
      ]
     },
     "execution_count": 19,
     "metadata": {},
     "output_type": "execute_result"
    }
   ],
   "source": [
    "enigme.draw('mpl')"
   ]
  },
  {
   "cell_type": "code",
   "execution_count": 20,
   "id": "80927771",
   "metadata": {},
   "outputs": [],
   "source": [
    "# Nous avons donc la base de l'enigme, il faut maintenant faire en sorte d'attribuer le mensonge à l'un des deux gardiens"
   ]
  },
  {
   "cell_type": "code",
   "execution_count": 21,
   "id": "0f5c1f66",
   "metadata": {},
   "outputs": [
    {
     "data": {
      "text/plain": [
       "<qiskit.circuit.instructionset.InstructionSet at 0x243b3928250>"
      ]
     },
     "execution_count": 21,
     "metadata": {},
     "output_type": "execute_result"
    }
   ],
   "source": [
    "enigme.cx(2,1)"
   ]
  },
  {
   "cell_type": "code",
   "execution_count": 22,
   "id": "3619a190",
   "metadata": {},
   "outputs": [
    {
     "data": {
      "image/png": "[encoded data removed]",
      "text/plain": [
       "<Figure size 454.719x284.278 with 1 Axes>"
      ]
     },
     "execution_count": 22,
     "metadata": {},
     "output_type": "execute_result"
    }
   ],
   "source": [
    "enigme.draw('mpl')"
   ]
  },
  {
   "cell_type": "code",
   "execution_count": 23,
   "id": "be62e53c",
   "metadata": {},
   "outputs": [
    {
     "data": {
      "text/plain": [
       "<qiskit.circuit.instructionset.InstructionSet at 0x243b3928820>"
      ]
     },
     "execution_count": 23,
     "metadata": {},
     "output_type": "execute_result"
    }
   ],
   "source": [
    "enigme.x(2)"
   ]
  },
  {
   "cell_type": "code",
   "execution_count": 24,
   "id": "05cc1f12",
   "metadata": {},
   "outputs": [
    {
     "data": {
      "image/png": "[encoded data removed]",
      "text/plain": [
       "<Figure size 538.33x284.278 with 1 Axes>"
      ]
     },
     "execution_count": 24,
     "metadata": {},
     "output_type": "execute_result"
    }
   ],
   "source": [
    "enigme.draw('mpl')"
   ]
  },
  {
   "cell_type": "code",
   "execution_count": 25,
   "id": "a28a0b83",
   "metadata": {},
   "outputs": [
    {
     "data": {
      "text/plain": [
       "<qiskit.circuit.instructionset.InstructionSet at 0x243b3928d00>"
      ]
     },
     "execution_count": 25,
     "metadata": {},
     "output_type": "execute_result"
    }
   ],
   "source": [
    "enigme.cnot(2,0)"
   ]
  },
  {
   "cell_type": "code",
   "execution_count": 26,
   "id": "83cc29d7",
   "metadata": {},
   "outputs": [
    {
     "data": {
      "text/plain": [
       "<qiskit.circuit.instructionset.InstructionSet at 0x243b3928af0>"
      ]
     },
     "execution_count": 26,
     "metadata": {},
     "output_type": "execute_result"
    }
   ],
   "source": [
    "enigme.x(2)"
   ]
  },
  {
   "cell_type": "code",
   "execution_count": 27,
   "id": "7957cebb",
   "metadata": {},
   "outputs": [
    {
     "data": {
      "image/png": "[encoded data removed]",
      "text/plain": [
       "<Figure size 705.552x284.278 with 1 Axes>"
      ]
     },
     "execution_count": 27,
     "metadata": {},
     "output_type": "execute_result"
    }
   ],
   "source": [
    "enigme.draw('mpl')"
   ]
  },
  {
   "cell_type": "code",
   "execution_count": 28,
   "id": "85c0f3c6",
   "metadata": {},
   "outputs": [
    {
     "data": {
      "text/plain": [
       "<qiskit.circuit.instructionset.InstructionSet at 0x243b3af0910>"
      ]
     },
     "execution_count": 28,
     "metadata": {},
     "output_type": "execute_result"
    }
   ],
   "source": [
    "enigme.barrier(0,1,2)"
   ]
  },
  {
   "cell_type": "code",
   "execution_count": 29,
   "id": "3d64fd93",
   "metadata": {},
   "outputs": [
    {
     "data": {
      "image/png": "[encoded data removed]",
      "text/plain": [
       "<Figure size 789.163x284.278 with 1 Axes>"
      ]
     },
     "execution_count": 29,
     "metadata": {},
     "output_type": "execute_result"
    }
   ],
   "source": [
    "enigme.draw('mpl')"
   ]
  },
  {
   "cell_type": "code",
   "execution_count": 30,
   "id": "b63a4f78",
   "metadata": {},
   "outputs": [],
   "source": [
    "# Nous avons donc l'enigme, deux portes avec deux gardiens, donc l'un qui ment, les gardiens se connaissent entre eux.\n",
    "# Nous allons maintenant poser la fameuse question qui permet de résoudre l'enigme"
   ]
  },
  {
   "cell_type": "code",
   "execution_count": 31,
   "id": "155c8423",
   "metadata": {},
   "outputs": [
    {
     "data": {
      "text/plain": [
       "<qiskit.circuit.instructionset.InstructionSet at 0x243b3af12a0>"
      ]
     },
     "execution_count": 31,
     "metadata": {},
     "output_type": "execute_result"
    }
   ],
   "source": [
    "enigme.swap(0,1)"
   ]
  },
  {
   "cell_type": "code",
   "execution_count": 32,
   "id": "ab8daf3f",
   "metadata": {},
   "outputs": [
    {
     "data": {
      "text/plain": [
       "<qiskit.circuit.instructionset.InstructionSet at 0x243b3af0c40>"
      ]
     },
     "execution_count": 32,
     "metadata": {},
     "output_type": "execute_result"
    }
   ],
   "source": [
    "enigme.x(0)\n",
    "enigme.x(1)"
   ]
  },
  {
   "cell_type": "code",
   "execution_count": 33,
   "id": "434824e4",
   "metadata": {},
   "outputs": [
    {
     "data": {
      "text/plain": [
       "<qiskit.circuit.instructionset.InstructionSet at 0x243b3af3a00>"
      ]
     },
     "execution_count": 33,
     "metadata": {},
     "output_type": "execute_result"
    }
   ],
   "source": [
    "enigme.cnot(2,1)\n",
    "enigme.x(2)\n",
    "enigme.cnot(2,0)\n",
    "enigme.x(2)"
   ]
  },
  {
   "cell_type": "code",
   "execution_count": 34,
   "id": "6778e883",
   "metadata": {},
   "outputs": [
    {
     "data": {
      "image/png": "[encoded data removed]",
      "text/plain": [
       "<Figure size 1290.83x284.278 with 1 Axes>"
      ]
     },
     "execution_count": 34,
     "metadata": {},
     "output_type": "execute_result"
    }
   ],
   "source": [
    "enigme.draw('mpl')"
   ]
  },
  {
   "cell_type": "code",
   "execution_count": 35,
   "id": "e85d1dab",
   "metadata": {},
   "outputs": [],
   "source": [
    "# Il ne nous reste plus qu'à mesurer les qubits pour savoir où se trouve le trésor, et quel gardien mentait"
   ]
  },
  {
   "cell_type": "code",
   "execution_count": 36,
   "id": "cd21e09f",
   "metadata": {},
   "outputs": [],
   "source": [
    "enigme.measure_all()"
   ]
  },
  {
   "cell_type": "code",
   "execution_count": 37,
   "id": "6da931a2",
   "metadata": {},
   "outputs": [
    {
     "data": {
      "image/png": "[encoded data removed]",
      "text/plain": [
       "<Figure size 1667.33x367.889 with 1 Axes>"
      ]
     },
     "execution_count": 37,
     "metadata": {},
     "output_type": "execute_result"
    }
   ],
   "source": [
    "enigme.draw('mpl')"
   ]
  },
  {
   "cell_type": "code",
   "execution_count": null,
   "id": "90a69958",
   "metadata": {},
   "outputs": [],
   "source": []
  },
  {
   "cell_type": "code",
   "execution_count": null,
   "id": "5f43b6f1",
   "metadata": {},
   "outputs": [],
   "source": []
  },
  {
   "cell_type": "code",
   "execution_count": null,
   "id": "0a7b61e2",
   "metadata": {},
   "outputs": [],
   "source": []
  },
  {
   "cell_type": "code",
   "execution_count": null,
   "id": "b1af9a3f",
   "metadata": {},
   "outputs": [],
   "source": []
  },
  {
   "cell_type": "code",
   "execution_count": null,
   "id": "b0b4793b",
   "metadata": {},
   "outputs": [],
   "source": []
  },
  {
   "cell_type": "code",
   "execution_count": null,
   "id": "1eefc640",
   "metadata": {},
   "outputs": [],
   "source": []
  },
  {
   "cell_type": "code",
   "execution_count": null,
   "id": "3af8bf70",
   "metadata": {},
   "outputs": [],
   "source": []
  },
  {
   "cell_type": "code",
   "execution_count": null,
   "id": "18cf88cb",
   "metadata": {},
   "outputs": [],
   "source": []
  }
 ],
 "metadata": {
  "kernelspec": {
   "display_name": "Python 3 (ipykernel)",
   "language": "python",
   "name": "python3"
  },
  "language_info": {
   "codemirror_mode": {
    "name": "ipython",
    "version": 3
   },
   "file_extension": ".py",
   "mimetype": "text/x-python",
   "name": "python",
   "nbconvert_exporter": "python",
   "pygments_lexer": "ipython3",
   "version": "3.11.5"
  }
 },
 "nbformat": 4,
 "nbformat_minor": 5
}
